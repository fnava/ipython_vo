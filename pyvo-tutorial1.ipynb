{
 "metadata": {
  "name": "Untitled0-Copy0"
 },
 "nbformat": 3,
 "nbformat_minor": 0,
 "worksheets": [
  {
   "cells": [
    {
     "cell_type": "markdown",
     "metadata": {},
     "source": "# pyVO simple tutorial\n\nThis ipython notebook intends to be a small tutorial to access [Virtual Observatory](http://pyvo.readthedocs.org/en/latest/pyvo/vo.html) services from python using [pyVO](http://dev.usvao.org/vao/wiki/Products/PyVO).\n\n\nIs based in the excellent official [pyVO documentation](http://pyvo.readthedocs.org/en/latest/pyvo/index.html), and links to it in each speciffic topic are provided.\n\n## [Discovering Services](http://pyvo.readthedocs.org/en/latest/pyvo/registry_access.html)\n\nInformation in VO is arranged around *archives*. An archive can expose its data to VO by providing standard data access services. But, what archive or archives to search? you can discover them by searching what is called a VO Registry. This is a special database containing descriptions of all archives, services, and other resources known to the VO.\n\nTo find archives with VO data access services  the simplest way to do this is to use `pyvo.regsearch()`:"
    },
    {
     "cell_type": "code",
     "collapsed": false,
     "input": "import pyvo as vo\nimcolls = vo.regsearch(\"CAB\", servicetype='image')\nimcolls.nrecs",
     "language": "python",
     "metadata": {},
     "outputs": [
      {
       "metadata": {},
       "output_type": "pyout",
       "prompt_number": 1,
       "text": "3"
      }
     ],
     "prompt_number": 1
    },
    {
     "cell_type": "code",
     "collapsed": false,
     "input": "for r in imcolls:\n    print(r.title)",
     "language": "python",
     "metadata": {},
     "outputs": [
      {
       "output_type": "stream",
       "stream": "stdout",
       "text": "The CALAR ALTO PUBLIC ARCHIVE AT CAB\nTHE GTC ARCHIVE AT CAB\nALHAMBRA Final Archive: F814W images\n"
      }
     ],
     "prompt_number": 2
    },
    {
     "cell_type": "code",
     "collapsed": false,
     "input": "myreg = imcolls[2]\nprint myreg.keys()",
     "language": "python",
     "metadata": {},
     "outputs": [
      {
       "output_type": "stream",
       "stream": "stdout",
       "text": "('tags', 'shortName', 'title', 'description', 'publisher', 'waveband', 'identifier', 'updated', 'subject', 'type', 'contentLevel', 'regionOfRegard', 'version', 'resourceID', 'capabilityClass', 'capabilityStandardID', 'capabilityValidationLevel', 'interfaceClass', 'interfaceVersion', 'interfaceRole', 'accessURL', 'maxRadius', 'maxRecords', 'publisherID', 'referenceURL')\n"
      }
     ],
     "prompt_number": 3
    },
    {
     "cell_type": "code",
     "collapsed": false,
     "input": "for k,v in myreg.iteritems():\n    print k+\":\\t\\t\"+str(v)",
     "language": "python",
     "metadata": {},
     "outputs": [
      {
       "output_type": "stream",
       "stream": "stdout",
       "text": "tags:\t\tHTTP Request\nshortName:\t\tALHAMBRA_F814W\ntitle:\t\tALHAMBRA Final Archive: F814W images\ndescription:\t\tThis data server provides access to the F814W images of the ALHAMBRA Final Archive. The ALHAMBRA (Advance Large Homogeneous Area Medium Band Redshift Astronomical) survey (Moles et al. 2008) has observed 8 different regions of the sky, including sections of the COSMOS, DEEP2, ELAIS, GOODS-N, SDSS and Groth fields using a new photometric system with 20 contiguous, non-overlapping, equal width (~ 300A) filters, covering the optical range (3500A-9700A), plus the standard broadband NIR J, H and Ks filters. The observations were carried out with the Calar Alto (CAHA) 3.5m telescope using the wide field, 0.25 deg2 FOV optical camera LAICA and the NIR instrument Omega-2000. The ALHAMBRA survey dataset represents a ~700hrs of total exposure time, gathered in between the 2005 and 2012.Further information on the project can be found at the ALHAMBRA web page.\npublisher:\t\tSpanish Virtual Observatory\nwaveband:\t\t\nidentifier:\t\tivo://svo.cab/alhambra_siap_f814w#1\nupdated:\t\t2014-12-01T11:35:23Z\nsubject:\t\t('ALHAMBRA F814W SIAP',)\ntype:\t\t('Archive',)\ncontentLevel:\t\t('Research',)\nregionOfRegard:\t\tnan\nversion:\t\t\nresourceID:\t\tivo://svo.cab/alhambra_siap_f814w\ncapabilityClass:\t\tSimpleImageAccess\ncapabilityStandardID:\t\tivo://ivoa.net/std/SIA\ncapabilityValidationLevel:\t\t2\ninterfaceClass:\t\tParamHTTP\ninterfaceVersion:\t\t\ninterfaceRole:\t\t\naccessURL:\t\thttp://caha.sdc.cab.inta-csic.es/calto/siap_alhambra/alhambra_siap.jsp?\nmaxRadius:\t\tnan\nmaxRecords:\t\t0\npublisherID:\t\tivo://svo.cab\nreferenceURL:\t\thttp://www.alhambrasurvey.com/\n"
      }
     ],
     "prompt_number": 4
    },
    {
     "cell_type": "markdown",
     "metadata": {},
     "source": "While we have searched images registries, we can search for other types of services via the ``servicetype`` parameter:\n\n| set ``servicetype`` to...  | ...to find: |\n| ---------------------  | ------------------- |\n| image                      | Simple Image Access (SIA) services |\n| spectrum                   | Simple Spectral Access (SSA) services |\n| catalog                    | Simple Cone Search (SCS) services |\n| line                       | Simple Line Access (SLA) services |\n"
    },
    {
     "cell_type": "code",
     "collapsed": false,
     "input": "",
     "language": "python",
     "metadata": {},
     "outputs": []
    }
   ],
   "metadata": {}
  }
 ]
}