{
 "metadata": {
  "name": ""
 },
 "nbformat": 3,
 "nbformat_minor": 0,
 "worksheets": [
  {
   "cells": [
    {
     "cell_type": "markdown",
     "metadata": {},
     "source": [
      "# pyVO simple tutorial\n",
      "\n",
      "This ipython notebook intends to be a small tutorial to access [Virtual Observatory](http://pyvo.readthedocs.org/en/latest/pyvo/vo.html) services from python using [pyVO](http://dev.usvao.org/vao/wiki/Products/PyVO).\n",
      "\n",
      "\n",
      "Is based in the excellent official [pyVO documentation](http://pyvo.readthedocs.org/en/latest/pyvo/index.html), and links to it in each speciffic topic are provided.\n",
      "\n",
      "## [Discovering Services](http://pyvo.readthedocs.org/en/latest/pyvo/registry_access.html)\n",
      "\n",
      "Information in VO is arranged around *archives*. An archive can expose its data to VO by providing standard data access services. But, what archive or archives to search? you can discover them by searching what is called a VO Registry. This is a special database containing descriptions of all archives, services, and other resources known to the VO.\n",
      "\n",
      "To find archives with VO data access services  the simplest way to do this is to use `pyvo.regsearch()`:"
     ]
    },
    {
     "cell_type": "code",
     "collapsed": false,
     "input": [
      "import pyvo as vo\n",
      "imcolls = vo.regsearch(\"cab\", servicetype='image')\n",
      "imcolls.nrecs"
     ],
     "language": "python",
     "metadata": {},
     "outputs": [
      {
       "metadata": {},
       "output_type": "pyout",
       "prompt_number": 17,
       "text": [
        "3"
       ]
      }
     ],
     "prompt_number": 17
    },
    {
     "cell_type": "code",
     "collapsed": false,
     "input": [
      "for r in imcolls:\n",
      "    print(r.title)"
     ],
     "language": "python",
     "metadata": {},
     "outputs": [
      {
       "output_type": "stream",
       "stream": "stdout",
       "text": [
        "The CALAR ALTO PUBLIC ARCHIVE AT CAB\n",
        "THE GTC ARCHIVE AT CAB\n",
        "ALHAMBRA Final Archive: F814W images\n"
       ]
      }
     ],
     "prompt_number": 18
    },
    {
     "cell_type": "code",
     "collapsed": false,
     "input": [
      "myreg = imcolls[1]\n",
      "for k,v in myreg.iteritems():\n",
      "    print k+\":\\t\\t\"+str(v)"
     ],
     "language": "python",
     "metadata": {},
     "outputs": [
      {
       "output_type": "stream",
       "stream": "stdout",
       "text": [
        "tags:\t\tHTTP Request\n",
        "shortName:\t\t\n",
        "title:\t\tTHE GTC ARCHIVE AT CAB\n",
        "description:\t\tSIAP service for GTC Public Data\n",
        "publisher:\t\tSpanish Virtual Observatory\n",
        "waveband:\t\t\n",
        "identifier:\t\tivo://svo.cab/gtc#1\n",
        "updated:\t\t2014-12-01T11:34:47Z\n",
        "subject:\t\t('GTC, SIAP, Images',)\n",
        "type:\t\t\n",
        "contentLevel:\t\t\n",
        "regionOfRegard:\t\tnan\n",
        "version:\t\t\n",
        "resourceID:\t\tivo://svo.cab/gtc\n",
        "capabilityClass:\t\tSimpleImageAccess\n",
        "capabilityStandardID:\t\tivo://ivoa.net/std/SIA\n",
        "capabilityValidationLevel:\t\t2\n",
        "interfaceClass:\t\tParamHTTP\n",
        "interfaceVersion:\t\t\n",
        "interfaceRole:\t\t\n",
        "accessURL:\t\thttp://gtc.sdc.cab.inta-csic.es/gtc/siap/gtc_siap.jsp?\n",
        "maxRadius:\t\tnan\n",
        "maxRecords:\t\t0\n",
        "publisherID:\t\t\n",
        "referenceURL:\t\thttp://www.gtc.iac.es/\n"
       ]
      }
     ],
     "prompt_number": 19
    },
    {
     "cell_type": "markdown",
     "metadata": {},
     "source": [
      "So far we have searched images registries, but we can search for other types of services via the ``servicetype`` parameter:\n",
      "\n",
      "| set ``servicetype`` to...  | ...to find: |\n",
      "| ---------------------  | ------------------- |\n",
      "| image                      | Simple Image Access (SIA) | dataset service |\n",
      "| spectrum                   | Simple Spectral Access (SSA) | dataset service |\n",
      "| catalog                    | Simple Cone Search (SCS) | catalog service|\n",
      "| line                       | Simple Line Access (SLA) | catalog service |\n",
      "\n",
      "which are named [data access services](http://pyvo.readthedocs.org/en/latest/pyvo/data_access.html#) or the way an archive expose its data to the VO.\n",
      "\n",
      "Dataset service will return a table where each row is describes a single downloadable dataset (an image or a spectrum). Through a catalog service the archive can provide a rich set of metadata that describe whatever it is that is being searched for."
     ]
    },
    {
     "cell_type": "code",
     "collapsed": false,
     "input": [
      "imcolls = vo.regsearch(\"cab\", servicetype='spectrum')\n",
      "imcolls.nrecs"
     ],
     "language": "python",
     "metadata": {},
     "outputs": [
      {
       "metadata": {},
       "output_type": "pyout",
       "prompt_number": 20,
       "text": [
        "24"
       ]
      }
     ],
     "prompt_number": 20
    },
    {
     "cell_type": "code",
     "collapsed": false,
     "input": [
      "for r in imcolls:\n",
      "    print(r.title)"
     ],
     "language": "python",
     "metadata": {},
     "outputs": [
      {
       "output_type": "stream",
       "stream": "stdout",
       "text": [
        "IUE highly processed spectra\n",
        "POPSTAR with Salpeter (1955) IMF with m=(0.15-100)Msun.\n",
        "POPSTAR with Salpeter (1955) IMF with m=(0.85-120)Msun.\n",
        "Ultyraviolet photometry for IUE highly processed spectra\n",
        "Coelho Synthetic stellar library\n",
        "Allard, COND 2000\n",
        "The COROT PUBLIC ARCHIVE AT LAEFF\n",
        "Dalessio disk models\n",
        "DRIFT-PHOENIX models\n",
        "Allard, DUSTY 2000\n",
        "A High-Resolution Stellar Library for Evolutionary Population Synthesis.\n",
        "Husfeld et al models for non-LTE Helium-rich stars\n",
        "INES: The IUE Newly Extracted Spectra\n",
        "Kurucz ODFNEW /NOVER models\n",
        "Allard, NextGen\n",
        "OMC: The INTEGRAL Optical Monitoring Camera\n",
        "POPSTAR with Chabrier IMF\n",
        "POPSTAR with Ferrini IMF\n",
        "POPSTAR with Kroupa IMF\n",
        "SED@ Evolutionary Synthesis Models\n",
        "SVO EXPORT HERBIG AeBe SSAP\n",
        "TLUSTY BSTAR2006\n",
        "TLUSTY OSTAR2002+BSTAR2006\n",
        "TLUSTY OSTAR2002\n"
       ]
      }
     ],
     "prompt_number": 21
    },
    {
     "cell_type": "code",
     "collapsed": false,
     "input": [
      "myreg = imcolls[6]\n",
      "for k,v in myreg.iteritems():\n",
      "    print k+\":\\t\\t\"+str(v)"
     ],
     "language": "python",
     "metadata": {},
     "outputs": [
      {
       "output_type": "stream",
       "stream": "stdout",
       "text": [
        "tags:\t\tHTTP Request\n",
        "shortName:\t\tCOROT ARCHIVE\n",
        "title:\t\tThe COROT PUBLIC ARCHIVE AT LAEFF\n",
        "description:\t\tSSAP service for CoRot COROT: (\"COnvection, ROtation and Transits\"), is a mission with two principal objectives: the study of stellar interiors using asteroseismology techniques, and the discovery of extrasolar planets using the transit method. Successfully launched in December 2006, CoRoT has been providing the astronomical community with a number of revolutionary results on the internal structure of stars and on the physical properties of extrasolar planets. The need for an archive for the CoRoT data was identified in the early phases of the project. In March 2003, LAEFF was selected, together with the CDS, to be responsible for the long-term storage and maintenance of the CoRoT Final Archive, which will contain all CoRoT data processed in a homogeneous and uniform way. This Final Archive will represent the legacy of the mission for future generations of researchers and educators. In addition to the Final Archive, efficient data management and data interchange mechanisms have been set up to work during the operational phase of CoRoT. In this framework two types of archives have been defined. - The Mission Archive: Located at the Institut d'Astrophysique Spatiale (IAS) in Paris, the Mission Archive is the only access point for CoRoT data during the proprietary period. - The Public Archives: Containing only publicly available data, these are dynamic archives since new data as well as re-calibrations of previous data will be ingested during the mission lifetime. The Public Archives are being developed at the IAS (Paris), CDS (Strasbourg), NStED (Pasadena, California), and LAEX (Madrid). For the sake of integrity, the data are stored at IAS and remotely accessed from the Public Archives.\n",
        "publisher:\t\tSVO\n",
        "waveband:\t\t\n",
        "identifier:\t\tivo://svo.cab/corot#1\n",
        "updated:\t\t2012-10-15T13:09:07Z\n",
        "subject:\t\t('CoRoT',)\n",
        "type:\t\t\n",
        "contentLevel:\t\t\n",
        "regionOfRegard:\t\tnan\n",
        "version:\t\t\n",
        "resourceID:\t\tivo://svo.cab/corot\n",
        "capabilityClass:\t\tSimpleSpectralAccess\n",
        "capabilityStandardID:\t\tivo://ivoa.net/std/SSA\n",
        "capabilityValidationLevel:\t\t2\n",
        "interfaceClass:\t\tParamHTTP\n",
        "interfaceVersion:\t\t\n",
        "interfaceRole:\t\t\n",
        "accessURL:\t\thttp://sdc.cab.inta-csic.es/corotfa/jsp/ssap.jsp?\n",
        "maxRadius:\t\t180.0\n",
        "maxRecords:\t\t0\n",
        "publisherID:\t\t\n",
        "referenceURL:\t\thttp://svo.cab.inta-csic.es\n"
       ]
      }
     ],
     "prompt_number": 16
    },
    {
     "cell_type": "code",
     "collapsed": false,
     "input": [],
     "language": "python",
     "metadata": {},
     "outputs": []
    }
   ],
   "metadata": {}
  }
 ]
}